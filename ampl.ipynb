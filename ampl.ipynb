{
  "cells": [
    {
      "cell_type": "markdown",
      "metadata": {
        "id": "view-in-github",
        "colab_type": "text"
      },
      "source": [
        "<a href=\"https://colab.research.google.com/github/Filo2002/ImageRetrievalEsameElettrotecnica/blob/master/ampl.ipynb\" target=\"_parent\"><img src=\"https://colab.research.google.com/assets/colab-badge.svg\" alt=\"Open In Colab\"/></a>"
      ]
    },
    {
      "cell_type": "code",
      "execution_count": 1,
      "metadata": {
        "id": "hCKIad_fPjfu",
        "colab": {
          "base_uri": "https://localhost:8080/"
        },
        "outputId": "ce2e9cc9-b72b-4e3f-9093-46317bea3ab1"
      },
      "outputs": [
        {
          "output_type": "stream",
          "name": "stdout",
          "text": [
            "\u001b[2K     \u001b[90m━━━━━━━━━━━━━━━━━━━━━━━━━━━━━━━━━━━━━━━━\u001b[0m \u001b[32m5.6/5.6 MB\u001b[0m \u001b[31m12.9 MB/s\u001b[0m eta \u001b[36m0:00:00\u001b[0m\n",
            "\u001b[?25h"
          ]
        }
      ],
      "source": [
        "# Install dependencies\n",
        "%pip install -q amplpy --upgrade"
      ]
    },
    {
      "cell_type": "code",
      "execution_count": 2,
      "metadata": {
        "id": "4vqUfS5sPvfm",
        "collapsed": true,
        "outputId": "42a22ba2-d8cf-4bea-aa78-70a41be968c1",
        "colab": {
          "base_uri": "https://localhost:8080/"
        }
      },
      "outputs": [
        {
          "output_type": "stream",
          "name": "stdout",
          "text": [
            "Licensed to Bundle #6252.6609 expiring 20240131: Ricerca Operativa, Prof. Fabrizio Marinelli, Universit? Politecnica delle Marche.\n"
          ]
        }
      ],
      "source": [
        "from amplpy import AMPL, ampl_notebook\n",
        "\n",
        "ampl = ampl_notebook(\n",
        "    modules=[\"minos\", \"cplex\", \"conopt\", \"baron\", \"gurobi\", \"snopt\", \"highs\"],  # modules to install\n",
        "    license_uuid=\"22d13bd9-fa62-4dae-8ed2-39fff6f7abed\",  # license to use\n",
        ")  # instantiate AMPL object and register magics"
      ]
    },
    {
      "cell_type": "markdown",
      "metadata": {
        "id": "Uya7nmzIH_z6"
      },
      "source": [
        "## sequenze in programmazione matematica\n",
        "\n",
        "Alternative:\n",
        "- $x_{ij} = 1$ se l'elemento $i$ precede l'elemento $j$ (non in senso stretto).\n",
        "- $x_{ij} = 1$ se l'elemento $i$ è in posizione $j$.\n",
        "- $x_{i} = j$ se l'elemento $i$ è in posizione $j$.\n",
        "\n",
        "### Alternativa 1\n",
        "\n",
        "$x_{ij} = 1$ se l'elemento $i$ precede l'elemento $j$ (non in senso stretto).\n",
        "\n",
        "\n",
        "- proprietà antisimmetrica\n",
        "$$\n",
        "x_{ij} + x_{ji} = 1 \\qquad \\qquad i,j \\in A, i \\neq j     \n",
        "$$\n",
        "\n",
        "- proprietà transitiva\n",
        "$$\n",
        "x_{ij} + x_{jk} + x_{ki} \\le 2 \\qquad \\qquad i,j,k \\in A, i \\neq j \\neq k     \n",
        "$$\n",
        "\n"
      ]
    },
    {
      "cell_type": "code",
      "execution_count": 4,
      "metadata": {
        "id": "BaMcAnThH_z-"
      },
      "outputs": [],
      "source": [
        "%%ampl_eval\n",
        "reset;\n",
        "\n",
        "var xa integer;\n",
        "var xb integer;\n",
        "var xc integer;\n",
        "\n",
        "s.t. vincolo1: xa + 2 * xb + 3 * xc <= 40;\n",
        "s.t. vincolo2: 2 * xb - xa <= 0;\n",
        "s.t. vincolo3: xc - xb <= 0;\n",
        "s.t. vincolo4: xa >= 0;\n",
        "s.t. vincolo5: xb >= 0;\n",
        "s.t. vincolo6: xc >= 0;\n",
        "\n",
        "maximize profitto: (xa - 2 * xb) * 8 + (xb - xc) * 70 + xc * 100;\n",
        "\n",
        "\n",
        "\n",
        "#s.t. v2{i in A, j in A, k in A: i != j && j != k}: x[i,j] + x[j,k] + x[k,i] = 2;"
      ]
    },
    {
      "cell_type": "code",
      "execution_count": 5,
      "metadata": {
        "id": "0gOsZtpgH_z_",
        "outputId": "8686e550-e036-4e33-b482-43afbabcba9d",
        "colab": {
          "base_uri": "https://localhost:8080/"
        }
      },
      "outputs": [
        {
          "output_type": "stream",
          "name": "stdout",
          "text": [
            "maximize profitto:\n",
            "\t8*xa + 54*xb + 30*xc;\n",
            "\n",
            "subject to vincolo1:\n",
            "\txa + 2*xb + 3*xc <= 40;\n",
            "\n",
            "subject to vincolo2:\n",
            "\t-xa + 2*xb <= 0;\n",
            "\n",
            "subject to vincolo3:\n",
            "\t-xb + xc <= 0;\n",
            "\n",
            "subject to vincolo4:\n",
            "\txa >= 0;\n",
            "\n",
            "subject to vincolo5:\n",
            "\txb >= 0;\n",
            "\n",
            "subject to vincolo6:\n",
            "\txc >= 0;\n",
            "\n"
          ]
        }
      ],
      "source": [
        "%%ampl_eval\n",
        "expand;"
      ]
    },
    {
      "cell_type": "code",
      "execution_count": 6,
      "metadata": {
        "id": "rv3v3WVBH_z_",
        "outputId": "e687ab79-a671-428e-a151-cac284878b2c",
        "colab": {
          "base_uri": "https://localhost:8080/"
        }
      },
      "outputs": [
        {
          "output_type": "stream",
          "name": "stdout",
          "text": [
            "CPLEX 22.1.1.0: mipdisplay=2\n",
            "Found incumbent of value 0.000000 after 0.00 sec. (0.00 ticks)\n",
            "Reduced MIP has 2 rows, 2 columns, and 4 nonzeros.\n",
            "Reduced MIP has 0 binaries, 2 generals, 0 SOSs, and 0 indicators.\n",
            "Reduced MIP has 2 rows, 2 columns, and 4 nonzeros.\n",
            "Reduced MIP has 0 binaries, 2 generals, 0 SOSs, and 0 indicators.\n",
            "MIP emphasis: balance optimality and feasibility.\n",
            "MIP search method: dynamic search.\n",
            "Parallel mode: deterministic, using up to 2 threads.\n",
            "Root relaxation solution time = 0.01 sec. (0.00 ticks)\n",
            "\n",
            "        Nodes                                         Cuts/\n",
            "   Node  Left     Objective  IInf  Best Integer    Best Bound    ItCnt     Gap\n",
            "\n",
            "*     0+    0                            0.0000      760.0000              --- \n",
            "*     0     0      integral     0      700.0000      700.0000        0    0.00%\n",
            "Elapsed time = 0.02 sec. (0.01 ticks, tree = 0.00 MB)\n",
            "\n",
            "Root node processing (before b&c):\n",
            "  Real time             =    0.02 sec. (0.01 ticks)\n",
            "Parallel b&c, 2 threads:\n",
            "  Real time             =    0.00 sec. (0.00 ticks)\n",
            "  Sync time (average)   =    0.00 sec.\n",
            "  Wait time (average)   =    0.00 sec.\n",
            "                          ------------\n",
            "Total (root+branch&cut) =    0.02 sec. (0.01 ticks)\n",
            "CPLEX 22.1.1.0: optimal integer solution; objective 700\n",
            "0 MIP simplex iterations\n",
            "0 branch-and-bound nodes\n"
          ]
        }
      ],
      "source": [
        "%%ampl_eval\n",
        "option solver cplex;\n",
        "option cplex_options \"mipdisplay=2\";\n",
        "solve;"
      ]
    },
    {
      "cell_type": "code",
      "execution_count": 8,
      "metadata": {
        "id": "jHVuZMd-H_0A",
        "outputId": "2870aeaa-3a70-41dc-d222-2c27f7250cdb",
        "colab": {
          "base_uri": "https://localhost:8080/"
        }
      },
      "outputs": [
        {
          "output_type": "stream",
          "name": "stdout",
          "text": [
            "xa = 20\n",
            "\n",
            "xb = 10\n",
            "\n",
            "xc = 0\n",
            "\n"
          ]
        }
      ],
      "source": [
        "%%ampl_eval\n",
        "display xa;\n",
        "display xb;\n",
        "display xc;"
      ]
    },
    {
      "cell_type": "markdown",
      "metadata": {
        "id": "Au6kM31PH_0A"
      },
      "source": [
        "E' difficile leggere la sequenza ottima dalla visualizzazione diretta della matrice $\\bf{x}$.\n",
        "\n",
        "Conviene organizzare la soluzione in modo diverso osservando che il numero di 1 nella riga $i$-esima di $\\bf{x}$ indica il numero di predecessori dell'elemento $i$.  "
      ]
    },
    {
      "cell_type": "code",
      "execution_count": null,
      "metadata": {
        "id": "cx0YnX0CH_0B"
      },
      "outputs": [],
      "source": [
        "%%ampl_eval\n",
        "delete data index;\n",
        "param index{A};\n",
        "for{i in A} let index[i] := sum{j in A}x[j,i];\n",
        "\n",
        "printf \"\\n\\n La sequenza e': \";\n",
        "for{i in A}{\n",
        "    for{j in A}{\n",
        "        if index[j] == i-1 then {printf \"%i - \", j; break;}\n",
        "    }\n",
        "}"
      ]
    },
    {
      "cell_type": "markdown",
      "metadata": {
        "id": "YAUX6SKVH_0B"
      },
      "source": [
        "### Alternativa 2\n",
        "\n",
        "$x_{ij} = 1$ se l'elemento $i$ è in posizione $j$.\n",
        "\n",
        "- ogni posizione riceve **esattamente** un elemento:\n",
        "$$\n",
        "\\sum_{i \\in A} x_{ij} = 1 \\qquad \\qquad j \\in A      \n",
        "$$\n",
        "\n",
        "- ogni elemento occupa **esattamente** una posizione:\n",
        "$$\n",
        "\\sum_{j \\in A} x_{ij} = 1 \\qquad \\qquad i \\in A     \n",
        "$$\n"
      ]
    },
    {
      "cell_type": "code",
      "execution_count": null,
      "metadata": {
        "id": "dU0MMnGjH_0B"
      },
      "outputs": [],
      "source": [
        "%%ampl_eval\n",
        "reset;\n",
        "\n",
        "param n := 10;\n",
        "set A :=  {1..n};      # elelemnti\n",
        "set P :=  {1..n};      # posizioni\n",
        "\n",
        "# Dichiarazione delle variabili\n",
        "var x{A,P} binary;\n",
        "\n",
        "s.t. posizione{j in P}: sum{i in A} x[i,j] = 1;\n",
        "s.t. elemento{i in A}: sum{j in P} x[i,j] = 1;"
      ]
    },
    {
      "cell_type": "code",
      "execution_count": null,
      "metadata": {
        "id": "Scihr5beH_0C"
      },
      "outputs": [],
      "source": [
        "%%ampl_eval\n",
        "expand;"
      ]
    },
    {
      "cell_type": "code",
      "execution_count": null,
      "metadata": {
        "id": "WNaC6MUaH_0C"
      },
      "outputs": [],
      "source": [
        "%%ampl_eval\n",
        "option solver cplex;\n",
        "solve;"
      ]
    },
    {
      "cell_type": "code",
      "execution_count": null,
      "metadata": {
        "id": "BAUz2k7UH_0C"
      },
      "outputs": [],
      "source": [
        "%%ampl_eval\n",
        "display x;"
      ]
    },
    {
      "cell_type": "markdown",
      "metadata": {
        "id": "-NsdbvJCH_0D"
      },
      "source": [
        "Di nuovo la sequenza ottima potrebbe essere difficile da interpretare direttamente dalla matrice $\\bf{x}$."
      ]
    },
    {
      "cell_type": "code",
      "execution_count": null,
      "metadata": {
        "id": "q_xkFBJwH_0D"
      },
      "outputs": [],
      "source": [
        "%%ampl_eval\n",
        "delete data index;\n",
        "param index{A};\n",
        "for{j in A}{\n",
        "    for{i in A}{\n",
        "        if x[i,j] == 1 then {let index[j] := i; break;}\n",
        "    }\n",
        "}\n",
        "printf \"\\n\\n La sequenza e': \";\n",
        "for{i in A}{ printf \"%i - \", index[i]; }"
      ]
    },
    {
      "cell_type": "markdown",
      "metadata": {
        "id": "0siOSCqBH_0D"
      },
      "source": [
        "### Alternativa 2b\n",
        "\n",
        "$x_{i} = j$ se l'elemento $i$ è in posizione $j$.\n",
        "\n",
        "Occorre modellare la condizione $ x_i \\neq x_j$, ovvero $x_i < x_j$ **oppure** $x_i > x_j$.\n",
        "\n",
        "- $x_i < x_j \\implies s_{ij} = 1$\n",
        "$$\n",
        "x_{j} - x_{i} + 1 \\le |A| s_{ij} \\qquad \\qquad i,j \\in A, i \\neq j      \n",
        "$$\n",
        "- $x_i > x_j \\implies s_{ij} = 0$\n",
        "$$\n",
        "x_{i} - x_{j} + 1 \\le |A| ( 1- s_{ij}) \\qquad \\qquad i,j \\in A, i \\neq j      \n",
        "$$\n",
        "\n",
        "\n"
      ]
    },
    {
      "cell_type": "code",
      "execution_count": null,
      "metadata": {
        "id": "ZEaF0ZDtH_0D"
      },
      "outputs": [],
      "source": [
        "%%ampl_eval\n",
        "reset;\n",
        "\n",
        "param n := 10;\n",
        "set A :=  {1..n};\n",
        "\n",
        "# Dichiarazione delle variabili\n",
        "var x{A} integer >= 1 <= n;\n",
        "var s{A,A} binary;\n",
        "\n",
        "s.t. v1{i in A, j in A: i != j}: x[j] - x[i] + 1 <= n*s[i,j];\n",
        "s.t. v2{i in A, j in A: i != j}: x[i] - x[j] + 1 <= n*(1 - s[i,j]);"
      ]
    },
    {
      "cell_type": "code",
      "execution_count": null,
      "metadata": {
        "id": "Lr-qXdyoH_0E"
      },
      "outputs": [],
      "source": [
        "%%ampl_eval\n",
        "expand;\n",
        "option solver cplex;\n",
        "solve;"
      ]
    },
    {
      "cell_type": "code",
      "execution_count": null,
      "metadata": {
        "id": "UsoPtBqKH_0E"
      },
      "outputs": [],
      "source": [
        "%%ampl_eval\n",
        "display x;"
      ]
    },
    {
      "cell_type": "code",
      "execution_count": null,
      "metadata": {
        "id": "ekSDREESH_0E"
      },
      "outputs": [],
      "source": [
        "%%ampl_eval\n",
        "printf \"\\n\\n La sequenza e': \";\n",
        "for{j in A}{\n",
        "    for{i in A}{\n",
        "        if x[i] == j then {printf \"%i - \", i; break;}\n",
        "    }\n",
        "}"
      ]
    },
    {
      "cell_type": "markdown",
      "metadata": {
        "id": "oBrbrk6TH_0F"
      },
      "source": [
        "### Qual è l'alternativa migliore?\n",
        "- **Alternativa 1**: circa $n^2$ variabili binarie e circa $n^2 + n^3$ vincoli\n",
        "- **Alternativa 2**: $n^2$ variabili binarie e $2n$ vincoli\n",
        "- **Alternativa 2b**: $n$ variabili intere $n^2$ variabili binarie e $n^2$ vincoli\n",
        "\n",
        "Utilizziamo una funzione obiettivo casuale per valutare le alternative."
      ]
    },
    {
      "cell_type": "code",
      "execution_count": null,
      "metadata": {
        "id": "MJ_GyiLqH_0F"
      },
      "outputs": [],
      "source": [
        "%%ampl_eval\n",
        "##########################  ALTERNATIVA 1:  x_ij = 1 se i precede (non in senso stretto) j\n",
        "reset;\n",
        "param n;\n",
        "set A :=  {1..n};\n",
        "param c{A, A};\n",
        "\n",
        "var x{A,A} binary;\n",
        "\n",
        "minimize z: sum{i in A, j in A} c[i,j]*x[i,j];\n",
        "s.t. v1{i in A, j in A: i != j}: x[i,j] + x[j,i] = 1;\n",
        "s.t. v2{i in A, j in A, k in A: i != j && j != k}: x[i,j] + x[j,k] + x[k,i] <= 2;\n",
        "\n",
        "data;\n",
        "param n := 30;\n",
        "param c :\n",
        "\t1\t2\t3\t4\t5\t6\t7\t8\t9\t10\t11\t12\t13\t14\t15\t16\t17\t18\t19\t20\t21\t22\t23\t24\t25\t26\t27\t28\t29\t30 :=\n",
        "1\t4\t23\t43\t91\t57\t1\t63\t47\t74\t68\t15\t84\t10\t28\t35\t18\t53\t46\t88\t67\t97\t67\t91\t52\t71\t75\t100\t95\t37\t44\n",
        "2\t16\t96\t97\t50\t63\t15\t22\t80\t37\t16\t96\t31\t57\t38\t100\t13\t63\t29\t43\t79\t80\t47\t43\t12\t15\t13\t82\t97\t68\t70\n",
        "3\t94\t74\t50\t83\t22\t70\t66\t20\t100\t88\t36\t47\t86\t21\t21\t58\t72\t84\t53\t75\t100\t43\t51\t93\t59\t52\t55\t58\t9\t16\n",
        "4\t60\t33\t64\t73\t81\t56\t34\t74\t97\t12\t57\t68\t94\t85\t94\t13\t88\t24\t100\t77\t12\t39\t3\t89\t81\t49\t18\t31\t94\t83\n",
        "5\t11\t77\t53\t30\t8\t3\t78\t63\t78\t2\t34\t63\t65\t41\t24\t56\t51\t36\t2\t79\t11\t82\t8\t96\t1\t66\t75\t16\t62\t86\n",
        "6\t19\t77\t23\t37\t81\t78\t26\t92\t12\t40\t17\t74\t72\t36\t19\t67\t5\t57\t89\t65\t17\t69\t40\t8\t67\t10\t71\t87\t97\t40\n",
        "7\t97\t84\t77\t31\t51\t93\t51\t95\t73\t8\t92\t83\t14\t73\t51\t63\t91\t44\t73\t48\t71\t75\t76\t24\t55\t42\t6\t80\t56\t20\n",
        "8\t92\t84\t93\t38\t28\t38\t33\t7\t21\t100\t43\t23\t6\t44\t68\t52\t53\t19\t73\t12\t95\t1\t65\t62\t27\t22\t71\t6\t50\t36\n",
        "9\t87\t3\t10\t89\t67\t78\t77\t90\t72\t37\t49\t6\t59\t25\t84\t57\t80\t26\t31\t95\t83\t68\t97\t47\t2\t56\t42\t29\t45\t47\n",
        "10\t25\t37\t10\t14\t41\t25\t41\t65\t49\t40\t67\t45\t78\t47\t25\t96\t2\t4\t40\t65\t86\t9\t44\t17\t57\t42\t77\t17\t59\t62\n",
        "11\t6\t10\t38\t90\t70\t72\t74\t86\t97\t82\t45\t28\t97\t81\t72\t26\t98\t76\t64\t79\t28\t30\t93\t27\t95\t64\t84\t53\t70\t72\n",
        "12\t21\t33\t90\t74\t22\t74\t96\t94\t50\t69\t69\t54\t19\t26\t24\t24\t57\t10\t88\t25\t66\t42\t52\t28\t38\t44\t89\t18\t38\t32\n",
        "13\t90\t48\t47\t89\t34\t20\t79\t69\t11\t99\t57\t3\t60\t89\t19\t55\t99\t61\t89\t66\t19\t6\t85\t9\t38\t52\t15\t27\t37\t46\n",
        "14\t76\t46\t1\t71\t73\t13\t23\t5\t92\t20\t90\t90\t55\t16\t21\t46\t30\t56\t14\t13\t93\t33\t34\t28\t9\t81\t91\t35\t41\t79\n",
        "15\t4\t53\t50\t43\t46\t42\t66\t22\t30\t30\t58\t4\t88\t83\t44\t21\t92\t38\t46\t25\t48\t65\t36\t29\t71\t92\t99\t1\t78\t76\n",
        "16\t38\t54\t79\t1\t78\t72\t4\t83\t70\t85\t67\t66\t72\t86\t95\t96\t32\t89\t56\t60\t74\t8\t53\t25\t13\t97\t78\t24\t6\t22\n",
        "17\t81\t9\t96\t19\t40\t72\t1\t66\t52\t80\t85\t24\t17\t87\t98\t21\t9\t63\t63\t32\t26\t57\t93\t31\t78\t87\t91\t37\t4\t93\n",
        "18\t3\t98\t25\t9\t35\t57\t7\t16\t65\t38\t56\t43\t54\t44\t55\t6\t33\t56\t85\t4\t48\t40\t4\t44\t37\t81\t59\t56\t40\t96\n",
        "19\t36\t7\t20\t93\t11\t1\t27\t69\t64\t60\t75\t73\t40\t72\t37\t69\t90\t60\t75\t93\t74\t87\t76\t4\t71\t72\t31\t14\t47\t62\n",
        "20\t32\t56\t16\t17\t76\t51\t31\t44\t31\t96\t34\t23\t3\t96\t93\t61\t35\t81\t28\t35\t98\t57\t41\t22\t70\t79\t96\t84\t8\t82\n",
        "21\t54\t66\t13\t78\t15\t70\t69\t33\t53\t6\t9\t94\t35\t79\t64\t20\t68\t81\t60\t87\t50\t55\t34\t66\t56\t58\t58\t17\t36\t28\n",
        "22\t33\t80\t10\t45\t75\t18\t76\t51\t2\t28\t100\t5\t48\t5\t43\t74\t99\t75\t32\t95\t80\t20\t26\t40\t63\t48\t11\t15\t65\t28\n",
        "23\t54\t91\t88\t61\t69\t48\t73\t12\t64\t7\t71\t45\t17\t66\t18\t82\t91\t74\t53\t96\t77\t20\t29\t54\t35\t92\t74\t10\t93\t18\n",
        "24\t43\t91\t32\t92\t11\t5\t65\t85\t19\t77\t100\t63\t16\t15\t44\t95\t11\t71\t56\t15\t4\t40\t16\t34\t62\t82\t88\t11\t53\t11\n",
        "25\t6\t64\t32\t42\t73\t18\t23\t73\t94\t24\t76\t43\t39\t66\t54\t33\t69\t70\t45\t23\t64\t77\t61\t6\t63\t27\t78\t58\t10\t41\n",
        "26\t94\t53\t73\t14\t74\t69\t87\t75\t62\t95\t46\t44\t78\t40\t63\t2\t50\t49\t46\t94\t57\t49\t24\t92\t87\t75\t7\t25\t46\t49\n",
        "27\t4\t85\t71\t44\t76\t85\t92\t40\t59\t37\t98\t97\t19\t61\t39\t54\t6\t55\t51\t28\t33\t77\t53\t84\t84\t95\t50\t37\t39\t88\n",
        "28\t95\t29\t5\t74\t15\t44\t29\t97\t36\t7\t58\t14\t43\t11\t63\t18\t80\t84\t75\t76\t83\t82\t12\t21\t21\t5\t2\t39\t63\t61\n",
        "29\t77\t54\t18\t17\t24\t32\t3\t65\t32\t91\t62\t64\t74\t18\t35\t75\t90\t94\t20\t79\t3\t79\t61\t25\t39\t69\t40\t52\t78\t74\n",
        "30\t82\t86\t30\t89\t100\t80\t35\t68\t94\t22\t84\t27\t48\t28\t44\t12\t13\t28\t81\t36\t8\t83\t5\t28\t20\t18\t46\t34\t98\t18\n",
        ";\n",
        "\n",
        "\n",
        "option solver cplex;\n",
        "option cplex_options \"mipdisplay=2\";\n",
        "solve;"
      ]
    },
    {
      "cell_type": "code",
      "execution_count": null,
      "metadata": {
        "id": "ccd0w0kpH_0F"
      },
      "outputs": [],
      "source": [
        "%%ampl_eval\n",
        "##########################  ALTERNATIVA 2:   x_ij = 1 se i è in posizione j\n",
        "reset;\n",
        "param n;\n",
        "set A :=  {1..n};      # elelemnti\n",
        "set P :=  {1..n};      # posizioni\n",
        "param c{A, P};\n",
        "\n",
        "# Dichiarazione delle variabili\n",
        "var x{A,P} binary;\n",
        "\n",
        "minimize z: sum{i in A, j in P} c[i,j]*x[i,j];\n",
        "s.t. posizione{j in P}: sum{i in A} x[i,j] = 1;\n",
        "s.t. elemento{i in A}: sum{j in P} x[i,j] = 1;\n",
        "\n",
        "\n",
        "\n",
        "data;\n",
        "param n := 30;\n",
        "param c :\n",
        "\t1\t2\t3\t4\t5\t6\t7\t8\t9\t10\t11\t12\t13\t14\t15\t16\t17\t18\t19\t20\t21\t22\t23\t24\t25\t26\t27\t28\t29\t30 :=\n",
        "1\t4\t23\t43\t91\t57\t1\t63\t47\t74\t68\t15\t84\t10\t28\t35\t18\t53\t46\t88\t67\t97\t67\t91\t52\t71\t75\t100\t95\t37\t44\n",
        "2\t16\t96\t97\t50\t63\t15\t22\t80\t37\t16\t96\t31\t57\t38\t100\t13\t63\t29\t43\t79\t80\t47\t43\t12\t15\t13\t82\t97\t68\t70\n",
        "3\t94\t74\t50\t83\t22\t70\t66\t20\t100\t88\t36\t47\t86\t21\t21\t58\t72\t84\t53\t75\t100\t43\t51\t93\t59\t52\t55\t58\t9\t16\n",
        "4\t60\t33\t64\t73\t81\t56\t34\t74\t97\t12\t57\t68\t94\t85\t94\t13\t88\t24\t100\t77\t12\t39\t3\t89\t81\t49\t18\t31\t94\t83\n",
        "5\t11\t77\t53\t30\t8\t3\t78\t63\t78\t2\t34\t63\t65\t41\t24\t56\t51\t36\t2\t79\t11\t82\t8\t96\t1\t66\t75\t16\t62\t86\n",
        "6\t19\t77\t23\t37\t81\t78\t26\t92\t12\t40\t17\t74\t72\t36\t19\t67\t5\t57\t89\t65\t17\t69\t40\t8\t67\t10\t71\t87\t97\t40\n",
        "7\t97\t84\t77\t31\t51\t93\t51\t95\t73\t8\t92\t83\t14\t73\t51\t63\t91\t44\t73\t48\t71\t75\t76\t24\t55\t42\t6\t80\t56\t20\n",
        "8\t92\t84\t93\t38\t28\t38\t33\t7\t21\t100\t43\t23\t6\t44\t68\t52\t53\t19\t73\t12\t95\t1\t65\t62\t27\t22\t71\t6\t50\t36\n",
        "9\t87\t3\t10\t89\t67\t78\t77\t90\t72\t37\t49\t6\t59\t25\t84\t57\t80\t26\t31\t95\t83\t68\t97\t47\t2\t56\t42\t29\t45\t47\n",
        "10\t25\t37\t10\t14\t41\t25\t41\t65\t49\t40\t67\t45\t78\t47\t25\t96\t2\t4\t40\t65\t86\t9\t44\t17\t57\t42\t77\t17\t59\t62\n",
        "11\t6\t10\t38\t90\t70\t72\t74\t86\t97\t82\t45\t28\t97\t81\t72\t26\t98\t76\t64\t79\t28\t30\t93\t27\t95\t64\t84\t53\t70\t72\n",
        "12\t21\t33\t90\t74\t22\t74\t96\t94\t50\t69\t69\t54\t19\t26\t24\t24\t57\t10\t88\t25\t66\t42\t52\t28\t38\t44\t89\t18\t38\t32\n",
        "13\t90\t48\t47\t89\t34\t20\t79\t69\t11\t99\t57\t3\t60\t89\t19\t55\t99\t61\t89\t66\t19\t6\t85\t9\t38\t52\t15\t27\t37\t46\n",
        "14\t76\t46\t1\t71\t73\t13\t23\t5\t92\t20\t90\t90\t55\t16\t21\t46\t30\t56\t14\t13\t93\t33\t34\t28\t9\t81\t91\t35\t41\t79\n",
        "15\t4\t53\t50\t43\t46\t42\t66\t22\t30\t30\t58\t4\t88\t83\t44\t21\t92\t38\t46\t25\t48\t65\t36\t29\t71\t92\t99\t1\t78\t76\n",
        "16\t38\t54\t79\t1\t78\t72\t4\t83\t70\t85\t67\t66\t72\t86\t95\t96\t32\t89\t56\t60\t74\t8\t53\t25\t13\t97\t78\t24\t6\t22\n",
        "17\t81\t9\t96\t19\t40\t72\t1\t66\t52\t80\t85\t24\t17\t87\t98\t21\t9\t63\t63\t32\t26\t57\t93\t31\t78\t87\t91\t37\t4\t93\n",
        "18\t3\t98\t25\t9\t35\t57\t7\t16\t65\t38\t56\t43\t54\t44\t55\t6\t33\t56\t85\t4\t48\t40\t4\t44\t37\t81\t59\t56\t40\t96\n",
        "19\t36\t7\t20\t93\t11\t1\t27\t69\t64\t60\t75\t73\t40\t72\t37\t69\t90\t60\t75\t93\t74\t87\t76\t4\t71\t72\t31\t14\t47\t62\n",
        "20\t32\t56\t16\t17\t76\t51\t31\t44\t31\t96\t34\t23\t3\t96\t93\t61\t35\t81\t28\t35\t98\t57\t41\t22\t70\t79\t96\t84\t8\t82\n",
        "21\t54\t66\t13\t78\t15\t70\t69\t33\t53\t6\t9\t94\t35\t79\t64\t20\t68\t81\t60\t87\t50\t55\t34\t66\t56\t58\t58\t17\t36\t28\n",
        "22\t33\t80\t10\t45\t75\t18\t76\t51\t2\t28\t100\t5\t48\t5\t43\t74\t99\t75\t32\t95\t80\t20\t26\t40\t63\t48\t11\t15\t65\t28\n",
        "23\t54\t91\t88\t61\t69\t48\t73\t12\t64\t7\t71\t45\t17\t66\t18\t82\t91\t74\t53\t96\t77\t20\t29\t54\t35\t92\t74\t10\t93\t18\n",
        "24\t43\t91\t32\t92\t11\t5\t65\t85\t19\t77\t100\t63\t16\t15\t44\t95\t11\t71\t56\t15\t4\t40\t16\t34\t62\t82\t88\t11\t53\t11\n",
        "25\t6\t64\t32\t42\t73\t18\t23\t73\t94\t24\t76\t43\t39\t66\t54\t33\t69\t70\t45\t23\t64\t77\t61\t6\t63\t27\t78\t58\t10\t41\n",
        "26\t94\t53\t73\t14\t74\t69\t87\t75\t62\t95\t46\t44\t78\t40\t63\t2\t50\t49\t46\t94\t57\t49\t24\t92\t87\t75\t7\t25\t46\t49\n",
        "27\t4\t85\t71\t44\t76\t85\t92\t40\t59\t37\t98\t97\t19\t61\t39\t54\t6\t55\t51\t28\t33\t77\t53\t84\t84\t95\t50\t37\t39\t88\n",
        "28\t95\t29\t5\t74\t15\t44\t29\t97\t36\t7\t58\t14\t43\t11\t63\t18\t80\t84\t75\t76\t83\t82\t12\t21\t21\t5\t2\t39\t63\t61\n",
        "29\t77\t54\t18\t17\t24\t32\t3\t65\t32\t91\t62\t64\t74\t18\t35\t75\t90\t94\t20\t79\t3\t79\t61\t25\t39\t69\t40\t52\t78\t74\n",
        "30\t82\t86\t30\t89\t100\t80\t35\t68\t94\t22\t84\t27\t48\t28\t44\t12\t13\t28\t81\t36\t8\t83\t5\t28\t20\t18\t46\t34\t98\t18\n",
        ";\n",
        "\n",
        "\n",
        "option solver cplex;\n",
        "option cplex_options \"mipdisplay=2\";\n",
        "solve;"
      ]
    },
    {
      "cell_type": "code",
      "execution_count": null,
      "metadata": {
        "scrolled": false,
        "id": "JO6oMf56H_0F"
      },
      "outputs": [],
      "source": [
        "%%ampl_eval\n",
        "##########################  ALTERNATIVA 2b:    x_i = j significa che l'elemento i è in posizione j\n",
        "reset;\n",
        "param n;\n",
        "set A :=  {1..n};\n",
        "param c{A, A};\n",
        "\n",
        "var x{A} integer >= 1 <= n;\n",
        "var s{A,A} binary;\n",
        "\n",
        "minimize z: sum{i in A, j in A} c[i,j]*s[i,j];\n",
        "s.t. v1{i in A, j in A: i != j}: x[j] - x[i] + 1 <= n*s[i,j];\n",
        "s.t. v2{i in A, j in A: i != j}: x[i] - x[j] + 1 <= n*(1 - s[i,j]);\n",
        "\n",
        "\n",
        "data;\n",
        "param n := 30;\n",
        "param c :\n",
        "\t1\t2\t3\t4\t5\t6\t7\t8\t9\t10\t11\t12\t13\t14\t15\t16\t17\t18\t19\t20\t21\t22\t23\t24\t25\t26\t27\t28\t29\t30 :=\n",
        "1\t4\t23\t43\t91\t57\t1\t63\t47\t74\t68\t15\t84\t10\t28\t35\t18\t53\t46\t88\t67\t97\t67\t91\t52\t71\t75\t100\t95\t37\t44\n",
        "2\t16\t96\t97\t50\t63\t15\t22\t80\t37\t16\t96\t31\t57\t38\t100\t13\t63\t29\t43\t79\t80\t47\t43\t12\t15\t13\t82\t97\t68\t70\n",
        "3\t94\t74\t50\t83\t22\t70\t66\t20\t100\t88\t36\t47\t86\t21\t21\t58\t72\t84\t53\t75\t100\t43\t51\t93\t59\t52\t55\t58\t9\t16\n",
        "4\t60\t33\t64\t73\t81\t56\t34\t74\t97\t12\t57\t68\t94\t85\t94\t13\t88\t24\t100\t77\t12\t39\t3\t89\t81\t49\t18\t31\t94\t83\n",
        "5\t11\t77\t53\t30\t8\t3\t78\t63\t78\t2\t34\t63\t65\t41\t24\t56\t51\t36\t2\t79\t11\t82\t8\t96\t1\t66\t75\t16\t62\t86\n",
        "6\t19\t77\t23\t37\t81\t78\t26\t92\t12\t40\t17\t74\t72\t36\t19\t67\t5\t57\t89\t65\t17\t69\t40\t8\t67\t10\t71\t87\t97\t40\n",
        "7\t97\t84\t77\t31\t51\t93\t51\t95\t73\t8\t92\t83\t14\t73\t51\t63\t91\t44\t73\t48\t71\t75\t76\t24\t55\t42\t6\t80\t56\t20\n",
        "8\t92\t84\t93\t38\t28\t38\t33\t7\t21\t100\t43\t23\t6\t44\t68\t52\t53\t19\t73\t12\t95\t1\t65\t62\t27\t22\t71\t6\t50\t36\n",
        "9\t87\t3\t10\t89\t67\t78\t77\t90\t72\t37\t49\t6\t59\t25\t84\t57\t80\t26\t31\t95\t83\t68\t97\t47\t2\t56\t42\t29\t45\t47\n",
        "10\t25\t37\t10\t14\t41\t25\t41\t65\t49\t40\t67\t45\t78\t47\t25\t96\t2\t4\t40\t65\t86\t9\t44\t17\t57\t42\t77\t17\t59\t62\n",
        "11\t6\t10\t38\t90\t70\t72\t74\t86\t97\t82\t45\t28\t97\t81\t72\t26\t98\t76\t64\t79\t28\t30\t93\t27\t95\t64\t84\t53\t70\t72\n",
        "12\t21\t33\t90\t74\t22\t74\t96\t94\t50\t69\t69\t54\t19\t26\t24\t24\t57\t10\t88\t25\t66\t42\t52\t28\t38\t44\t89\t18\t38\t32\n",
        "13\t90\t48\t47\t89\t34\t20\t79\t69\t11\t99\t57\t3\t60\t89\t19\t55\t99\t61\t89\t66\t19\t6\t85\t9\t38\t52\t15\t27\t37\t46\n",
        "14\t76\t46\t1\t71\t73\t13\t23\t5\t92\t20\t90\t90\t55\t16\t21\t46\t30\t56\t14\t13\t93\t33\t34\t28\t9\t81\t91\t35\t41\t79\n",
        "15\t4\t53\t50\t43\t46\t42\t66\t22\t30\t30\t58\t4\t88\t83\t44\t21\t92\t38\t46\t25\t48\t65\t36\t29\t71\t92\t99\t1\t78\t76\n",
        "16\t38\t54\t79\t1\t78\t72\t4\t83\t70\t85\t67\t66\t72\t86\t95\t96\t32\t89\t56\t60\t74\t8\t53\t25\t13\t97\t78\t24\t6\t22\n",
        "17\t81\t9\t96\t19\t40\t72\t1\t66\t52\t80\t85\t24\t17\t87\t98\t21\t9\t63\t63\t32\t26\t57\t93\t31\t78\t87\t91\t37\t4\t93\n",
        "18\t3\t98\t25\t9\t35\t57\t7\t16\t65\t38\t56\t43\t54\t44\t55\t6\t33\t56\t85\t4\t48\t40\t4\t44\t37\t81\t59\t56\t40\t96\n",
        "19\t36\t7\t20\t93\t11\t1\t27\t69\t64\t60\t75\t73\t40\t72\t37\t69\t90\t60\t75\t93\t74\t87\t76\t4\t71\t72\t31\t14\t47\t62\n",
        "20\t32\t56\t16\t17\t76\t51\t31\t44\t31\t96\t34\t23\t3\t96\t93\t61\t35\t81\t28\t35\t98\t57\t41\t22\t70\t79\t96\t84\t8\t82\n",
        "21\t54\t66\t13\t78\t15\t70\t69\t33\t53\t6\t9\t94\t35\t79\t64\t20\t68\t81\t60\t87\t50\t55\t34\t66\t56\t58\t58\t17\t36\t28\n",
        "22\t33\t80\t10\t45\t75\t18\t76\t51\t2\t28\t100\t5\t48\t5\t43\t74\t99\t75\t32\t95\t80\t20\t26\t40\t63\t48\t11\t15\t65\t28\n",
        "23\t54\t91\t88\t61\t69\t48\t73\t12\t64\t7\t71\t45\t17\t66\t18\t82\t91\t74\t53\t96\t77\t20\t29\t54\t35\t92\t74\t10\t93\t18\n",
        "24\t43\t91\t32\t92\t11\t5\t65\t85\t19\t77\t100\t63\t16\t15\t44\t95\t11\t71\t56\t15\t4\t40\t16\t34\t62\t82\t88\t11\t53\t11\n",
        "25\t6\t64\t32\t42\t73\t18\t23\t73\t94\t24\t76\t43\t39\t66\t54\t33\t69\t70\t45\t23\t64\t77\t61\t6\t63\t27\t78\t58\t10\t41\n",
        "26\t94\t53\t73\t14\t74\t69\t87\t75\t62\t95\t46\t44\t78\t40\t63\t2\t50\t49\t46\t94\t57\t49\t24\t92\t87\t75\t7\t25\t46\t49\n",
        "27\t4\t85\t71\t44\t76\t85\t92\t40\t59\t37\t98\t97\t19\t61\t39\t54\t6\t55\t51\t28\t33\t77\t53\t84\t84\t95\t50\t37\t39\t88\n",
        "28\t95\t29\t5\t74\t15\t44\t29\t97\t36\t7\t58\t14\t43\t11\t63\t18\t80\t84\t75\t76\t83\t82\t12\t21\t21\t5\t2\t39\t63\t61\n",
        "29\t77\t54\t18\t17\t24\t32\t3\t65\t32\t91\t62\t64\t74\t18\t35\t75\t90\t94\t20\t79\t3\t79\t61\t25\t39\t69\t40\t52\t78\t74\n",
        "30\t82\t86\t30\t89\t100\t80\t35\t68\t94\t22\t84\t27\t48\t28\t44\t12\t13\t28\t81\t36\t8\t83\t5\t28\t20\t18\t46\t34\t98\t18\n",
        ";\n",
        "\n",
        "option solver cplex;\n",
        "option cplex_options \"mipdisplay=2 timelimit=120\";\n",
        "solve;"
      ]
    },
    {
      "cell_type": "markdown",
      "metadata": {
        "id": "iX2UX9xkH_0F"
      },
      "source": [
        "## Problema\n",
        "- Un robot deve processare 10 pezzi.\n",
        "- Il robot deve essere attrezzato quando passa da un pezzo al successivo.\n",
        "- I costi di attrezzaggio sono quelli riportati in tabella.\n",
        "\n",
        "\n",
        "| |A|B|C|D|E|F|G|H|K|L|\n",
        "|---|---|---|---|---|---|---|---|---|---|---|\n",
        "A | 0|\t2|\t4|\t5|\t3|\t2|\t2|\t3|\t3|\t5|\n",
        "B | 4|\t0|\t1|\t2|\t1|\t3|\t5|\t2|\t5|\t2|\n",
        "C|2|\t3|\t0|\t2|\t5|\t2|\t1|\t5|\t3|\t3|\n",
        "D|3|\t2|\t5|\t0|\t2|\t3|\t5|\t2|\t4|\t4|\n",
        "E|2|\t3|\t3|\t3|\t0|\t4|\t2|\t4|\t5|\t3|\n",
        "F|2|\t1|\t2|\t5|\t2|\t0|\t1|\t2|\t3|\t1|\n",
        "G|1|\t5|\t4|\t3|\t3|\t2|\t0|\t3|\t1|\t5|\n",
        "H|5|\t2|\t3|\t4|\t2|\t5|\t3|\t0|\t2|\t1|\n",
        "K|3|\t1|\t4|\t2|\t5|\t3|\t4|\t2|\t0|\t2|\n",
        "L|4|\t2|\t3|\t1|\t3|\t1|\t5|\t4|\t5|\t0|"
      ]
    },
    {
      "cell_type": "markdown",
      "metadata": {
        "id": "GIxK3b2QH_0G"
      },
      "source": [
        "Esercizio: Come si può esprimere la funzione obiettivo utilizzando una delle alternative discusse in precedenza?"
      ]
    },
    {
      "cell_type": "code",
      "execution_count": null,
      "metadata": {
        "id": "0HByLhSiH_0G"
      },
      "outputs": [],
      "source": [
        "%%ampl_eval\n",
        "##########################  ALTERNATIVA 1:  x_ij = 1 se i precede (non in senso stretto) j\n",
        "reset;\n",
        "param n;\n",
        "set A :=  {1..n};\n",
        "param c{A, A};\n",
        "\n",
        "var x{A,A} binary;\n",
        "\n",
        "minimize z: sum{i in A, j in A} c[i,j]*x[i,j];\n",
        "s.t. v1{i in A, j in A: i != j}: x[i,j] + x[j,i] = 1;\n",
        "s.t. v2{i in A, j in A, k in A: i != j && j != k}: x[i,j] + x[j,k] + x[k,i] <= 2;\n",
        "\n",
        "\n",
        "data;\n",
        "param n := 10;\n",
        "param c : 1 2 3 4 5 6 7 8 9 10 :=\n",
        "1 0 2 4 5 3 2 2 3 3 5\n",
        "2 4 0 1 2 1 3 5 2 5 2\n",
        "3 2 3 0 2 5 2 1 5 3 3\n",
        "4 3 2 5 0 2 3 5 2 4 4\n",
        "5 2 3 3 3 0 4 2 4 5 3\n",
        "6 2 1 2 5 2 0 1 2 3 1\n",
        "7 1 5 4 3 3 2 0 3 1 5\n",
        "8 5 2 3 4 2 5 3 0 2 1\n",
        "9 3 1 4 2 5 3 4 2 0 2\n",
        "10 4 2 3 1 3 1 5 4 5 0\n",
        ";\n",
        "\n",
        "option solver cplex;\n",
        "option cplex_options \"mipdisplay=2\";\n",
        "solve;"
      ]
    },
    {
      "cell_type": "code",
      "execution_count": null,
      "metadata": {
        "colab": {
          "base_uri": "https://localhost:8080/"
        },
        "id": "FzLRUBUIH_0H",
        "outputId": "521b1e43-ab3e-4cac-a9e4-4ad3e70be1cb"
      },
      "outputs": [
        {
          "output_type": "stream",
          "name": "stdout",
          "text": [
            "\n",
            "\n",
            " La sequenza e': 6 - 8 - 5 - 3 - 7 - 9 - 10 - 4 - 1 - 2 -  di costo 113 \n",
            "\n",
            "x [*,*]\n",
            ":    1   2   3   4   5   6   7   8   9  10    :=\n",
            "1    0   1   0   0   0   0   0   0   0   0\n",
            "2    0   0   0   0   0   0   0   0   0   0\n",
            "3    1   1   0   1   0   0   1   0   1   1\n",
            "4    1   1   0   0   0   0   0   0   0   0\n",
            "5    1   1   1   1   0   0   1   0   1   1\n",
            "6    1   1   1   1   1   0   1   1   1   1\n",
            "7    1   1   0   1   0   0   0   0   1   1\n",
            "8    1   1   1   1   1   0   1   0   1   1\n",
            "9    1   1   0   1   0   0   0   0   0   1\n",
            "10   1   1   0   1   0   0   0   0   0   0\n",
            ";\n",
            "\n"
          ]
        }
      ],
      "source": [
        "%%ampl_eval\n",
        "\n",
        "delete data index;\n",
        "param index{A};\n",
        "for{i in A} let index[i] := sum{j in A}x[j,i];\n",
        "\n",
        "printf \"\\n\\n La sequenza e': \";\n",
        "for{i in A}{\n",
        "    for{j in A}{\n",
        "        if index[j] == i-1 then {printf \"%i - \", j; break;}\n",
        "    }\n",
        "}\n",
        "printf \" di costo %g \\n\\n\", z;\n",
        "display x;"
      ]
    },
    {
      "cell_type": "code",
      "execution_count": null,
      "metadata": {
        "id": "EnjuT225H_0I"
      },
      "outputs": [],
      "source": [
        "%%ampl_eval\n",
        "expand z;\n",
        "display x;"
      ]
    },
    {
      "cell_type": "markdown",
      "metadata": {
        "id": "NbzAK9h6H_0I"
      },
      "source": [
        "Evidentemente anche le alternative 2 e 2b sono di scarsa utilità. In definitiva, nessuna delle precedenti variabili di decisione è utilizzabile **direttamente** per esprimere la funzione obiettivo perchè occorre conteggiare solo i costi di setup tra pezzi **consecutivi** nella sequenza. Introduciamo quindi una nuova variabile:   \n",
        "\n",
        "### Alternativa 1b\n",
        "\n",
        "4. $x_{ij} = 1$ se l'elemento $i$ precede **immediatamente** l'elemento $j$.\n",
        "\n",
        "Benchè la variabile somigli molto a quella definita nella prima alternativa ($x_{ij} = 1$ se l'elemento $i$ precede l'elemento $j$.), non si possono utilizzare gli stessi vincoli. Infatti:\n",
        "\n",
        "- la condizione $x_{ij} + x_{ji} = 1$ è vera solo per coppie di elementi consecutivi e non per tutte le coppie $i,j$; il vincolo quindi dovrebbe essere rilassato in $x_{ij} + x_{ji} \\le 1$ ma così facendo il vettore nullo è soluzione."
      ]
    },
    {
      "cell_type": "code",
      "execution_count": null,
      "metadata": {
        "id": "3L3U584HH_0I"
      },
      "outputs": [],
      "source": [
        "%%ampl_eval\n",
        "##########################  ALTERNATIVA 1b:\n",
        "model;\n",
        "reset;\n",
        "param n;\n",
        "set A :=  {1..n};\n",
        "param c{A, A};\n",
        "\n",
        "var x{A,A} binary;\n",
        "\n",
        "minimize z: sum{i in A, j in A} c[i,j]*x[i,j];\n",
        "s.t. v1{i in A, j in A: i != j}: x[i,j] + x[j,i] <= 1;\n",
        "s.t. v2{i in A, j in A, k in A: i != j && j != k}: x[i,j] + x[j,k] + x[k,i] <= 2;\n",
        "\n",
        "\n",
        "data;\n",
        "param n := 10;\n",
        "param c : 1 2 3 4 5 6 7 8 9 10 :=\n",
        "1 0 2 4 5 3 2 2 3 3 5\n",
        "2 4 0 1 2 1 3 5 2 5 2\n",
        "3 2 3 0 2 5 2 1 5 3 3\n",
        "4 3 2 5 0 2 3 5 2 4 4\n",
        "5 2 3 3 3 0 4 2 4 5 3\n",
        "6 2 1 2 5 2 0 1 2 3 1\n",
        "7 1 5 4 3 3 2 0 3 1 5\n",
        "8 5 2 3 4 2 5 3 0 2 1\n",
        "9 3 1 4 2 5 3 4 2 0 2\n",
        "10 4 2 3 1 3 1 5 4 5 0\n",
        ";\n",
        "\n",
        "\n",
        "option solver cplex;\n",
        "option cplex_options \"mipdisplay=2\";\n",
        "solve;"
      ]
    },
    {
      "cell_type": "code",
      "execution_count": null,
      "metadata": {
        "colab": {
          "base_uri": "https://localhost:8080/"
        },
        "id": "MkvUkNq2H_0I",
        "outputId": "45640592-fb6e-4132-9c82-a178739b526f"
      },
      "outputs": [
        {
          "output_type": "stream",
          "name": "stdout",
          "text": [
            "x [*,*]\n",
            ":    1   2   3   4   5   6   7   8   9  10    :=\n",
            "1    0   0   0   0   0   0   0   0   0   0\n",
            "2    0   0   0   0   0   0   0   0   0   0\n",
            "3    0   0   0   0   0   0   0   0   0   0\n",
            "4    0   0   0   0   0   0   0   0   0   0\n",
            "5    0   0   0   0   0   0   0   0   0   0\n",
            "6    0   0   0   0   0   0   0   0   0   0\n",
            "7    0   0   0   0   0   0   0   0   0   0\n",
            "8    0   0   0   0   0   0   0   0   0   0\n",
            "9    0   0   0   0   0   0   0   0   0   0\n",
            "10   0   0   0   0   0   0   0   0   0   0\n",
            ";\n",
            "\n"
          ]
        }
      ],
      "source": [
        "%%ampl_eval\n",
        "display x;"
      ]
    },
    {
      "cell_type": "markdown",
      "metadata": {
        "id": "B9_TP40UH_0J"
      },
      "source": [
        "La semantica della nuova variabile $x_{ij}$ può essere definita imponendo che:\n",
        "- ogni elemento (a parte l'ultimo) abbia esattamente un successore;\n",
        "- ogni elemento (a parte il primo) abbia esattamente un predecessore;\n",
        "\n",
        "Siccome non possiamo stabilire a priori chi siano il primo e ultimo elemento della sequenza,  aggiungiamo due elementi fittizi $s$ e $t$ (inizio e fine sequenza) e introduciamo i seguenti vincoli:\n",
        "\n",
        "ogni elemento (tranne $s$ e compreso $t$) ha **esattamente** un predecessore (eventualmente $s$):\n",
        "$$\n",
        "\\sum_{i \\in A \\cup {s}} x_{ij} = 1 \\qquad \\qquad j \\in A \\cup {t}     \n",
        "$$\n",
        "\n",
        "ogni elemento (tranne $t$ e compreso $s$) ha **esattamente** un successore (eventualmente $t$):\n",
        "$$\n",
        "\\sum_{j \\in A \\cup {t}} x_{ij} = 1 \\qquad \\qquad i \\in A \\cup {s}     \n",
        "$$"
      ]
    },
    {
      "cell_type": "code",
      "execution_count": null,
      "metadata": {
        "id": "NIQd-IGUH_0J"
      },
      "outputs": [],
      "source": [
        "%%ampl_eval\n",
        "##########################  ALTERNATIVA 1b:\n",
        "model;\n",
        "reset;\n",
        "\n",
        "param n;\n",
        "set A :=  {1..n};\n",
        "# 0 e 11 sono elementi dummy s e t\n",
        "set B := {0} union A union {n+1};\n",
        "\n",
        "param c{A,A} >= 0;\n",
        "\n",
        "# Dichiarazione delle variabili\n",
        "var x{B,B} binary;\n",
        "\n",
        "# Funzione obiettivo\n",
        "minimize z: sum{i in A, j in A}c[i,j]*x[i,j];\n",
        "\n",
        "# ogni elemento (eccetto il primo) ha esattamente un predecessore\n",
        "s.t. predecessori{j in B diff {0}}: sum{i in B diff {n+1}: i != j} x[i,j] = 1;\n",
        "\n",
        "# ogni elemento (eccetto l'ultimo) ha esattamente un successore\n",
        "s.t. successori{j in B diff {n+1}}: sum{i in B diff {0}: i != j} x[j,i] = 1;\n",
        "\n",
        "data;\n",
        "param n := 10;\n",
        "param c : 1 2 3 4 5 6 7 8 9 10 :=\n",
        "1 0 2 4 5 3 2 2 3 3 5\n",
        "2 4 0 1 2 1 3 5 2 5 2\n",
        "3 2 3 0 2 5 2 1 5 3 3\n",
        "4 3 2 5 0 2 3 5 2 4 4\n",
        "5 2 3 3 3 0 4 2 4 5 3\n",
        "6 2 1 2 5 2 0 1 2 3 1\n",
        "7 1 5 4 3 3 2 0 3 1 5\n",
        "8 5 2 3 4 2 5 3 0 2 1\n",
        "9 3 1 4 2 5 3 4 2 0 2\n",
        "10 4 2 3 1 3 1 5 4 5 0\n",
        ";\n",
        "\n",
        "option solver cplex;\n",
        "option cplex_options \"mipdisplay=2\";\n",
        "solve;"
      ]
    },
    {
      "cell_type": "code",
      "execution_count": null,
      "metadata": {
        "colab": {
          "base_uri": "https://localhost:8080/"
        },
        "id": "EaWALQ-3H_0K",
        "outputId": "4bf52971-db0d-407f-d007-43a95e3c9a1b"
      },
      "outputs": [
        {
          "output_type": "stream",
          "name": "stdout",
          "text": [
            "x [*,*]\n",
            ":    0   1   2   3   4   5   6   7   8   9  10  11    :=\n",
            "0    0   0   0   0   0   0   0   0   1   0   0   0\n",
            "1    0   0   0   0   0   0   1   0   0   0   0   0\n",
            "2    0   0   0   0   0   1   0   0   0   0   0   0\n",
            "3    0   0   0   0   0   0   0   1   0   0   0   0\n",
            "4    0   0   0   0   0   0   0   0   0   0   0   1\n",
            "5    0   1   0   0   0   0   0   0   0   0   0   0\n",
            "6    0   0   0   1   0   0   0   0   0   0   0   0\n",
            "7    0   0   0   0   0   0   0   0   0   1   0   0\n",
            "8    0   0   0   0   0   0   0   0   0   0   1   0\n",
            "9    0   0   1   0   0   0   0   0   0   0   0   0\n",
            "10   0   0   0   0   1   0   0   0   0   0   0   0\n",
            "11   0   0   0   0   0   0   0   0   0   0   0   0\n",
            ";\n",
            "\n"
          ]
        }
      ],
      "source": [
        "%%ampl_eval\n",
        "display x;"
      ]
    },
    {
      "cell_type": "code",
      "execution_count": null,
      "metadata": {
        "colab": {
          "base_uri": "https://localhost:8080/"
        },
        "id": "2uauEnGzH_0K",
        "outputId": "11f3ac15-735a-4b12-c842-ada619ebf040"
      },
      "outputs": [
        {
          "output_type": "stream",
          "name": "stdout",
          "text": [
            "\n",
            "\n",
            " La sequenza e': 0 - 8 - 10 - 4 - 11 - "
          ]
        }
      ],
      "source": [
        "%%ampl_eval\n",
        "printf \"\\n\\n La sequenza e': 0 - \";\n",
        "\n",
        "delete data i;\n",
        "param i;\n",
        "let i := 0;\n",
        "repeat{\n",
        "    for{j in B}{\n",
        "        if x[i,j] == 1 then {\n",
        "            printf \"%i - \", j;\n",
        "            let i := j;\n",
        "        }\n",
        "    }\n",
        "}while i < n+1;"
      ]
    },
    {
      "cell_type": "markdown",
      "metadata": {
        "id": "hursBzuXH_0K"
      },
      "source": [
        "**uhm... Cosa succede?**\n",
        "\n",
        "la soluzione è una sequenza parziale + un ciclo...\n",
        "- la condizione $x_{ij} + x_{jk} + x_{ki} \\le 2$ non garantisce più l'eliminazione di tutti i cicli e bisognerebbe estenderla a tutti i sottoinsiemi di nodi\n",
        "\n",
        "Occorre introdurre una nuova variabile $y_i$ che indica la posizione dell'elemento $i$-esimo e i seguenti vincoli che evitano la presenza di cicli\n",
        "\n",
        "$\n",
        "y_0 = 0\n",
        "$\n",
        "\n",
        "$\n",
        "y_i - y_j + 1 \\le |B|(1 - x_{ij}) \\qquad \\qquad i,j \\in B \\setminus \\{0\\}, i \\neq j     \n",
        "$\n"
      ]
    },
    {
      "cell_type": "code",
      "execution_count": null,
      "metadata": {
        "id": "7pUH9ux0H_0K",
        "colab": {
          "base_uri": "https://localhost:8080/"
        },
        "outputId": "31607b18-fa42-43e1-8b01-a684fb0574eb"
      },
      "outputs": [
        {
          "output_type": "stream",
          "name": "stdout",
          "text": [
            "CPLEX 22.1.1.0: mipdisplay=2\n",
            "MIP Presolve eliminated 0 rows and 10 columns.\n",
            "Reduced MIP has 143 rows, 122 columns, and 564 nonzeros.\n",
            "Reduced MIP has 111 binaries, 11 generals, 0 SOSs, and 0 indicators.\n",
            "Probing time = 0.00 sec. (0.31 ticks)\n",
            "Cover probing fixed 0 vars, tightened 20 bounds.\n",
            "Detecting symmetries...\n",
            "MIP Presolve eliminated 1 rows and 0 columns.\n",
            "MIP Presolve modified 22 coefficients.\n",
            "Reduced MIP has 142 rows, 122 columns, and 562 nonzeros.\n",
            "Reduced MIP has 111 binaries, 11 generals, 0 SOSs, and 0 indicators.\n",
            "Probing time = 0.00 sec. (0.27 ticks)\n",
            "Cover probing fixed 0 vars, tightened 10 bounds.\n",
            "Clique table members: 67.\n",
            "MIP emphasis: balance optimality and feasibility.\n",
            "MIP search method: dynamic search.\n",
            "Parallel mode: deterministic, using up to 2 threads.\n",
            "Root relaxation solution time = 0.00 sec. (0.23 ticks)\n",
            "\n",
            "        Nodes                                         Cuts/\n",
            "   Node  Left     Objective  IInf  Best Integer    Best Bound    ItCnt     Gap\n",
            "\n",
            "*     0+    0                           21.0000        0.0000           100.00%\n",
            "      0     0       12.0000    26       21.0000       12.0000       19   42.86%\n",
            "*     0+    0                           12.0000       12.0000             0.00%\n",
            "      0     0        cutoff             12.0000       12.0000       19    0.00%\n",
            "Elapsed time = 0.03 sec. (6.50 ticks, tree = 0.01 MB)\n",
            "\n",
            "Root node processing (before b&c):\n",
            "  Real time             =    0.03 sec. (6.51 ticks)\n",
            "Parallel b&c, 2 threads:\n",
            "  Real time             =    0.00 sec. (0.00 ticks)\n",
            "  Sync time (average)   =    0.00 sec.\n",
            "  Wait time (average)   =    0.00 sec.\n",
            "                          ------------\n",
            "Total (root+branch&cut) =    0.03 sec. (6.51 ticks)\n",
            "CPLEX 22.1.1.0: optimal integer solution; objective 12\n",
            "19 MIP simplex iterations\n",
            "0 branch-and-bound nodes\n"
          ]
        }
      ],
      "source": [
        "%%ampl_eval\n",
        "##########################  ALTERNATIVA 1b:\n",
        "model;\n",
        "reset;\n",
        "\n",
        "param n;\n",
        "set A :=  {1..n};\n",
        "# 0 e 11 sono elementi dummy s e t\n",
        "set B := {0} union A union {n+1};\n",
        "\n",
        "param c{A,A} >= 0;\n",
        "\n",
        "\n",
        "# Dichiarazione delle variabili\n",
        "var x{B,B} binary;\n",
        "var y{B} <= card(B), integer;  # posizione dell'elemento nella sequenza\n",
        "\n",
        "# Funzione obiettivo\n",
        "minimize z: sum{i in A, j in A}c[i,j]*x[i,j];\n",
        "\n",
        "# ogni elemento (eccetto 0) ha esattamente un predecessore\n",
        "s.t. predecessori{j in B diff {0}}: sum{i in B diff {n+1}: i != j} x[i,j] = 1;\n",
        "\n",
        "# ogni elemento (eccetto 11) ha esattamente un successore\n",
        "s.t. successori{j in B diff {n+1}}: sum{i in B diff {0}: i != j} x[j,i] = 1;\n",
        "\n",
        "subject to fix_y1: y[0] = 0;\n",
        "subject to sequence{i in B, j in B diff {0}: i <> j}: y[i] - y[j] + 1 <= card(B) * (1 - x[i,j]);\n",
        "\n",
        "data;\n",
        "param n := 10;\n",
        "param c : 1 2 3 4 5 6 7 8 9 10 :=\n",
        "1 0 2 4 5 3 2 2 3 3 5\n",
        "2 4 0 1 2 1 3 5 2 5 2\n",
        "3 2 3 0 2 5 2 1 5 3 3\n",
        "4 3 2 5 0 2 3 5 2 4 4\n",
        "5 2 3 3 3 0 4 2 4 5 3\n",
        "6 2 1 2 5 2 0 1 2 3 1\n",
        "7 1 5 4 3 3 2 0 3 1 5\n",
        "8 5 2 3 4 2 5 3 0 2 1\n",
        "9 3 1 4 2 5 3 4 2 0 2\n",
        "10 4 2 3 1 3 1 5 4 5 0\n",
        ";\n",
        "\n",
        "option solver cplex;\n",
        "option cplex_options \"mipdisplay=2\";\n",
        "solve;"
      ]
    },
    {
      "cell_type": "code",
      "execution_count": null,
      "metadata": {
        "id": "PKPuxwF9H_0L"
      },
      "outputs": [],
      "source": [
        "%%ampl_eval\n",
        "display x;"
      ]
    },
    {
      "cell_type": "code",
      "execution_count": null,
      "metadata": {
        "scrolled": true,
        "id": "BApFvNdoH_0M"
      },
      "outputs": [],
      "source": [
        "%%ampl_eval\n",
        "printf \"\\n\\n La sequenza e': \";\n",
        "\n",
        "delete data i;\n",
        "param i;\n",
        "let i := 0;\n",
        "repeat{\n",
        "    for{j in B}{\n",
        "        if x[i,j] == 1 then {\n",
        "            printf \"%i - \", j;\n",
        "            let i := j;\n",
        "        }\n",
        "    }\n",
        "}while i <= n;"
      ]
    },
    {
      "cell_type": "markdown",
      "metadata": {
        "id": "-3g5PML9H_0N"
      },
      "source": [
        "### Da sequenza a ciclo\n",
        "Qual è il modello per ottenere il **ciclo** ottimo di produzione?\n",
        "\n",
        "Siccome in un ciclo non c'è un elemento di inizio e uno di fine, il modello è esattamente lo stesso ma applicato all'insieme originale $A$, quindi senza introdurre elementi iniziali e finali fittizi.\n",
        "\n",
        "ogni elemento ha **esattamente** un predecessore:\n",
        "$$\n",
        "\\sum_{i \\in A} x_{ij} = 1 \\qquad \\qquad j \\in A     \n",
        "$$\n",
        "\n",
        "ogni elemento ha **esattamente** un successore:\n",
        "$$\n",
        "\\sum_{j \\in A} x_{ij} = 1 \\qquad \\qquad i \\in A     \n",
        "$$"
      ]
    },
    {
      "cell_type": "code",
      "execution_count": null,
      "metadata": {
        "id": "7PVa5fZ_H_0N"
      },
      "outputs": [],
      "source": [
        "%%ampl_eval\n",
        "reset;\n",
        "\n",
        "param n;\n",
        "set A :=  {1..n};\n",
        "\n",
        "param c{A,A} >= 0;\n",
        "\n",
        "# Dichiarazione delle variabili\n",
        "var x{A,A} binary;\n",
        "var y{A} <= card(A), integer;\n",
        "\n",
        "# Funzione obiettivo\n",
        "minimize z: sum{i in A, j in A}c[i,j]*x[i,j];\n",
        "\n",
        "# ogni elemento ha esattamente un predecessore\n",
        "s.t. predecessori{j in A}: sum{i in A: i != j} x[i,j] = 1;\n",
        "\n",
        "# ogni elemento ha esattamente un successore\n",
        "s.t. successori{j in A}: sum{i in A: i != j} x[j,i] = 1;\n",
        "\n",
        "subject to fix_y1: y[1] = 0;\n",
        "subject to sequence{i in A, j in A diff {1}: i <> j}: y[i] - y[j] + 1 <= card(A) * (1 - x[i,j]);\n",
        "\n",
        "\n",
        "data;\n",
        "param n := 10;\n",
        "param c : 1 2 3 4 5 6 7 8 9 10 :=\n",
        "1 0 2 4 5 3 2 2 3 3 5\n",
        "2 4 0 1 2 1 3 5 2 5 2\n",
        "3 2 3 0 2 5 2 1 5 3 3\n",
        "4 3 2 5 0 2 3 5 2 4 4\n",
        "5 2 3 3 3 0 4 2 4 5 3\n",
        "6 2 1 2 5 2 0 1 2 3 1\n",
        "7 1 5 4 3 3 2 0 3 1 5\n",
        "8 5 2 3 4 2 5 3 0 2 1\n",
        "9 3 1 4 2 5 3 4 2 0 2\n",
        "10 4 2 3 1 3 1 5 4 5 0\n",
        ";\n",
        "\n",
        "option solver cplex;\n",
        "option cplex_options \"mipdisplay=2\";\n",
        "solve;"
      ]
    },
    {
      "cell_type": "code",
      "execution_count": null,
      "metadata": {
        "id": "RtTtzIzEH_0N"
      },
      "outputs": [],
      "source": [
        "%%ampl_eval\n",
        "display x;\n",
        "printf \"\\n\\n Il ciclo e':  \";\n",
        "\n",
        "delete data i;\n",
        "param i;\n",
        "let i := 1;\n",
        "for{1..n}{\n",
        "    for{j in A}{\n",
        "        if x[i,j] == 1 then {\n",
        "            printf \"%i - \", j;\n",
        "            let i := j;\n",
        "            break;\n",
        "        }\n",
        "    }\n",
        "}"
      ]
    },
    {
      "cell_type": "markdown",
      "metadata": {
        "id": "IT6IKMshH_0O"
      },
      "source": [
        "**ESERCIZIO**\n",
        "\n",
        "Modificare opportunamente i valori della matrice di setup dell'esempio precedente in modo che il ciclo ottimo sia diverso dalla sequenza ottima"
      ]
    },
    {
      "cell_type": "code",
      "execution_count": null,
      "metadata": {
        "id": "JCXKa97yH_0O"
      },
      "outputs": [],
      "source": []
    }
  ],
  "metadata": {
    "anaconda-cloud": {},
    "kernelspec": {
      "display_name": "Python 3 (ipykernel)",
      "language": "python",
      "name": "python3"
    },
    "language_info": {
      "codemirror_mode": {
        "name": "ipython",
        "version": 3
      },
      "file_extension": ".py",
      "mimetype": "text/x-python",
      "name": "python",
      "nbconvert_exporter": "python",
      "pygments_lexer": "ipython3",
      "version": "3.9.5"
    },
    "colab": {
      "provenance": [],
      "include_colab_link": true
    }
  },
  "nbformat": 4,
  "nbformat_minor": 0
}